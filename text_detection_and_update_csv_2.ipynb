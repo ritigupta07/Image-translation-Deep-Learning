{
  "nbformat": 4,
  "nbformat_minor": 0,
  "metadata": {
    "colab": {
      "name": "text_detection_and_update_csv_2.ipynb",
      "provenance": [],
      "include_colab_link": true
    },
    "kernelspec": {
      "name": "python3",
      "display_name": "Python 3"
    }
  },
  "cells": [
    {
      "cell_type": "markdown",
      "metadata": {
        "id": "view-in-github",
        "colab_type": "text"
      },
      "source": [
        "<a href=\"https://colab.research.google.com/github/ritigupta07/Image-translation-Deep-Learning/blob/master/text_detection_and_update_csv_2.ipynb\" target=\"_parent\"><img src=\"https://colab.research.google.com/assets/colab-badge.svg\" alt=\"Open In Colab\"/></a>"
      ]
    },
    {
      "cell_type": "code",
      "metadata": {
        "id": "IFCGE8DywtqK",
        "colab_type": "code",
        "colab": {}
      },
      "source": [
        "#text is detected using google cloud vision and saved in .csv file\n",
        "from google.colab import drive\n",
        "drive.mount('/content/drive', force_remount=True)"
      ],
      "execution_count": 0,
      "outputs": []
    },
    {
      "cell_type": "code",
      "metadata": {
        "id": "0z0op0GLyiVF",
        "colab_type": "code",
        "colab": {}
      },
      "source": [
        "!pip install --upgrade google-cloud-vision"
      ],
      "execution_count": 0,
      "outputs": []
    },
    {
      "cell_type": "code",
      "metadata": {
        "id": "YZYGisu4xsY5",
        "colab_type": "code",
        "colab": {}
      },
      "source": [
        "import os\n",
        "from google.cloud import vision\n",
        "import io\n",
        "\n",
        "def detect_text(path, image):\n",
        "    \"\"\"Detects text in the file.\"\"\"\n",
        "    \n",
        "    client = vision.ImageAnnotatorClient()\n",
        "\n",
        "    with io.open(path, 'rb') as image_file:\n",
        "        content = image_file.read()\n",
        "\n",
        "    image = vision.types.Image(content=content)\n",
        "\n",
        "    response = client.text_detection(image=image)\n",
        "    texts = response.text_annotations\n",
        "    df.loc[filename,'english'] = texts[0].description\n",
        "\n",
        "        \n",
        "os.environ[\"GOOGLE_APPLICATION_CREDENTIALS\"]=\"/content/drive/My Drive/CS298-bab074d5fcb2.json\"\n",
        "\n",
        "import pandas as pd\n",
        "df = pd.read_csv('/content/drive/My Drive/dataSet.csv')\n",
        "df.set_index('image', inplace=True)\n",
        "\n",
        "directory ='/content/drive/My Drive/dataset_298/english'\n",
        "\n",
        "for filename in os.listdir(directory):\n",
        "  if(filename != \".DS_Store\"):\n",
        "    file_name = os.path.abspath('/content/drive/My Drive/dataset_298/english/'+filename)\n",
        "    detect_text(file_name, filename)\n",
        "    print(filename)\n",
        " #   break # remove this\n",
        "df.to_csv('/content/drive/My Drive/dataSet1.csv')"
      ],
      "execution_count": 0,
      "outputs": []
    },
    {
      "cell_type": "code",
      "metadata": {
        "id": "f5Ygy-okTyaB",
        "colab_type": "code",
        "colab": {}
      },
      "source": [
        "import os\n",
        "from google.cloud import vision\n",
        "import io\n",
        "\n",
        "def detect_text(path, image):\n",
        "    \"\"\"Detects text in the file.\"\"\"\n",
        "    \n",
        "    client = vision.ImageAnnotatorClient()\n",
        "\n",
        "    with io.open(path, 'rb') as image_file:\n",
        "        content = image_file.read()\n",
        "\n",
        "    image = vision.types.Image(content=content)\n",
        "\n",
        "    response = client.text_detection(image=image)\n",
        "    texts = response.text_annotations\n",
        "    df.loc[filename,'hindi'] = texts[0].description\n",
        "\n",
        "        \n",
        "os.environ[\"GOOGLE_APPLICATION_CREDENTIALS\"]=\"/content/drive/My Drive/CS298-bab074d5fcb2.json\"\n",
        "\n",
        "import pandas as pd\n",
        "df = pd.read_csv('/content/drive/My Drive/dataSet1.csv')\n",
        "df.set_index('image', inplace=True)\n",
        "\n",
        "directory ='/content/drive/My Drive/dataset_298/hindi'\n",
        "\n",
        "for filename in os.listdir(directory):\n",
        " # filename = '8.png' #remove this\n",
        "  if(filename != \".DS_Store\"):\n",
        "    file_name = os.path.abspath('/content/drive/My Drive/dataset_298/hindi/'+filename)\n",
        "    detect_text(file_name, filename)\n",
        "    print(filename)\n",
        " #   break # remove this\n",
        "df.to_csv('/content/drive/My Drive/dataSet2.csv')"
      ],
      "execution_count": 0,
      "outputs": []
    }
  ]
}