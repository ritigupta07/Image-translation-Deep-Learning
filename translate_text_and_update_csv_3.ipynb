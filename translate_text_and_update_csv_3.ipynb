{
  "nbformat": 4,
  "nbformat_minor": 0,
  "metadata": {
    "colab": {
      "name": "translate_text_and_update_csv_3.ipynb",
      "provenance": [],
      "include_colab_link": true
    },
    "kernelspec": {
      "name": "python3",
      "display_name": "Python 3"
    }
  },
  "cells": [
    {
      "cell_type": "markdown",
      "metadata": {
        "id": "view-in-github",
        "colab_type": "text"
      },
      "source": [
        "<a href=\"https://colab.research.google.com/github/ritigupta07/Image-translation-Deep-Learning/blob/master/translate_text_and_update_csv_3.ipynb\" target=\"_parent\"><img src=\"https://colab.research.google.com/assets/colab-badge.svg\" alt=\"Open In Colab\"/></a>"
      ]
    },
    {
      "cell_type": "code",
      "metadata": {
        "id": "uJ15pfuS3k7I",
        "colab_type": "code",
        "colab": {}
      },
      "source": [
        "from google.colab import drive\n",
        "drive.mount('/content/drive', force_remount=True)"
      ],
      "execution_count": 0,
      "outputs": []
    },
    {
      "cell_type": "code",
      "metadata": {
        "id": "FfKhMthY3uch",
        "colab_type": "code",
        "colab": {}
      },
      "source": [
        "from google.cloud import translate\n",
        "#ensure the file is accessible\n",
        "import os\n",
        "import pandas as pd\n",
        "\n",
        "os.environ[\"GOOGLE_APPLICATION_CREDENTIALS\"]=\"/content/drive/My Drive/CS298-cacc3c8b2600.json\"\n",
        "\n",
        "# Instantiates a client\n",
        "translate_client = translate.Client()\n",
        "\n",
        "\n",
        "df = pd.read_csv('/content/drive/My Drive/dataSet2.csv')\n",
        "df.set_index('image', inplace=True)\n",
        "for index, row in df.iterrows():\n",
        "    text = row['english']\n",
        "    \n",
        "    target = 'hi'\n",
        "    translation = translate_client.translate(\n",
        "    text,\n",
        "    target_language=target)\n",
        "    row['machine_translation'] = translation['translatedText']\n",
        "#    break # remove this\n",
        "\n",
        "df.to_csv('/content/drive/My Drive/dataSet3.csv')"
      ],
      "execution_count": 0,
      "outputs": []
    }
  ]
}